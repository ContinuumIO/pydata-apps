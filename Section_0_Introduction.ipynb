{
 "cells": [
  {
   "cell_type": "markdown",
   "metadata": {},
   "source": [
    "<img src=\"images/continuum_analytics_logo.png\" \n",
    "                                alt=\"Continuum Logo\",\n",
    "                                align=\"right\",\n",
    "                                width=\"30%\">\n",
    "\n",
    "# Building Python Data Applications <br> with Blaze and Bokeh\n",
    "\n",
    "*PyData Dallas 2015*\n",
    "\n",
    "by Andy Terrel and Christine Doig\n",
    "\n",
    "<hr>"
   ]
  },
  {
   "cell_type": "markdown",
   "metadata": {
    "collapsed": true
   },
   "source": [
    "## Tutorial sections\n",
    "\n",
    "- Section 0: Introduction\n",
    "- Section 1: Blaze\n",
    "- Section 2: Bokeh\n",
    "- Section 3: Apps\n",
    "\n",
    "<hr>\n"
   ]
  },
  {
   "cell_type": "markdown",
   "metadata": {},
   "source": [
    "## Follow along\n",
    "\n",
    "- Option A: Download repository\n",
    "\n",
    "### https://github.com/ContinuumIO/pydata-apps\n",
    "\n",
    "- Option B: View notebooks on nbviewer\n",
    "\n",
    "### http://nbviewer.ipython.org/github/ContinuumIO/pydata-apps\n",
    "\n",
    "<hr>\n"
   ]
  },
  {
   "cell_type": "markdown",
   "metadata": {},
   "source": [
    "## Blaze\n",
    "\n",
    "\n",
    "### http://blaze.pydata.org/en/latest/\n",
    "\n",
    "\n",
    "Blaze allows Python users a familiar interface to query data living in other data storage systems."
   ]
  },
  {
   "cell_type": "code",
   "execution_count": 2,
   "metadata": {
    "collapsed": false
   },
   "outputs": [
    {
     "data": {
      "text/html": [
       "\n",
       "        <iframe\n",
       "            width=\"100%\"\n",
       "            height=\"350\"\n",
       "            src=\"http://blaze.pydata.org/en/latest/\"\n",
       "            frameborder=\"0\"\n",
       "            allowfullscreen\n",
       "        ></iframe>\n",
       "        "
      ],
      "text/plain": [
       "<IPython.lib.display.IFrame at 0x104ab4d10>"
      ]
     },
     "execution_count": 2,
     "metadata": {},
     "output_type": "execute_result"
    }
   ],
   "source": [
    "from IPython.display import IFrame\n",
    "IFrame('http://blaze.pydata.org/en/latest/', width='100%', height=350)"
   ]
  },
  {
   "cell_type": "markdown",
   "metadata": {},
   "source": [
    "<hr>"
   ]
  },
  {
   "cell_type": "markdown",
   "metadata": {},
   "source": [
    "## Bokeh\n"
   ]
  },
  {
   "cell_type": "markdown",
   "metadata": {},
   "source": [
    "### http://bokeh.pydata.org/en/latest/\n",
    "\n",
    "Bokeh is a Python interactive visualization library that targets modern web browsers for presentation."
   ]
  },
  {
   "cell_type": "code",
   "execution_count": 3,
   "metadata": {
    "collapsed": false
   },
   "outputs": [
    {
     "data": {
      "text/html": [
       "\n",
       "        <iframe\n",
       "            width=\"100%\"\n",
       "            height=\"350\"\n",
       "            src=\"http://bokeh.pydata.org/en/latest/\"\n",
       "            frameborder=\"0\"\n",
       "            allowfullscreen\n",
       "        ></iframe>\n",
       "        "
      ],
      "text/plain": [
       "<IPython.lib.display.IFrame at 0x104ab4490>"
      ]
     },
     "execution_count": 3,
     "metadata": {},
     "output_type": "execute_result"
    }
   ],
   "source": [
    "from IPython.display import IFrame\n",
    "IFrame('http://bokeh.pydata.org/en/latest/', width='100%', height=350)"
   ]
  },
  {
   "cell_type": "markdown",
   "metadata": {},
   "source": [
    "<hr>"
   ]
  },
  {
   "cell_type": "markdown",
   "metadata": {},
   "source": [
    "### Tutorial goals\n",
    "\n",
    "- Query backends with Blaze expressions \n",
    "- Generate Bokeh visualizations\n",
    "- Create data applications with Blaze and Bokeh\n",
    "\n",
    "<hr>"
   ]
  },
  {
   "cell_type": "markdown",
   "metadata": {},
   "source": [
    "### Installation"
   ]
  },
  {
   "cell_type": "markdown",
   "metadata": {},
   "source": [
    "This tutorial uses many different libraries that are all available with the [Anaconda Distribution](http://continuum.io/downloads). Once you have Anaconda install, please run these commands from a terminal:\n",
    "\n",
    "```\n",
    "$ conda install -y blaze\n",
    "$ conda install -y bokeh\n",
    "$ conda install -y odo\n",
    "```\n",
    "\n",
    "<hr>\n",
    "\n",
    "### Versions\n",
    "```\n",
    "conda list\n",
    "```\n",
    "```\n",
    "blaze                     0.7.3                np19py27_0  \n",
    "bokeh                     0.8.2                np19py27_1  \n",
    "odo                       0.3.1                np19py27_0  \n",
    "ipython                   3.1.0                    py27_0  \n",
    "ipython-notebook          3.1.0                    py27_1 \n",
    "```"
   ]
  }
 ],
 "metadata": {
  "kernelspec": {
   "display_name": "Python 2",
   "language": "python",
   "name": "python2"
  },
  "language_info": {
   "codemirror_mode": {
    "name": "ipython",
    "version": 2
   },
   "file_extension": ".py",
   "mimetype": "text/x-python",
   "name": "python",
   "nbconvert_exporter": "python",
   "pygments_lexer": "ipython2",
   "version": "2.7.9"
  }
 },
 "nbformat": 4,
 "nbformat_minor": 0
}
