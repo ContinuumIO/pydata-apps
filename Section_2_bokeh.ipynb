{
 "cells": [
  {
   "cell_type": "markdown",
   "metadata": {},
   "source": [
    "<img src=\"images/continuum_analytics_logo.png\" \n",
    "                                alt=\"Continuum Logo\",\n",
    "                                align=\"right\",\n",
    "                                width=\"30%\">\n",
    "\n",
    "Introduction to Bokeh\n",
    "=====================\n",
    "\n",
    "In this tutorial we'll learn how to use Bokeh to build interactive visualizations viewable in a browser.  Generally this tutorial will have the following format\n",
    "\n",
    "1. `charting` - High level interface to go from data to plot\n",
    "2. `plotting` - Intermediate interface allowing control to all parts of a plot\n",
    "    - Vectorized attributes\n",
    "    - Toolbars\n",
    "    - Linked Brushing\n",
    "    - Interactivity\n",
    "3. Baseball example - Example of viewing statistics of baseball\n",
    "\n",
    "\n",
    "Install\n",
    "-------\n",
    "\n",
    "This tutorial uses many different libraries that are all available with the [Anaconda Distribution](http://continuum.io/downloads). Once you have Anaconda install, please run these commands from a terminal:\n",
    "\n",
    "```\n",
    "$ conda install -y blaze\n",
    "$ conda install -y bokeh\n",
    "$ conda install -y odo\n",
    "```\n",
    "\n",
    "The last command is there because of an issue with `odo` which was recently renamed (formerly `into`).\n",
    "\n",
    "<hr/>\n"
   ]
  },
  {
   "cell_type": "markdown",
   "metadata": {},
   "source": [
    "# Introduction to [Bokeh](http://bokeh.pydata.org/)\n",
    "\n",
    "Provide a first-class visualization library for web-aware applications, without\n",
    "requiring web-level programming.\n",
    "\n",
    "##We wrote JavaScript, so you don't have to.\n",
    "\n",
    "Write a visualization python. Bokeh creates data descripors and a scenegraph consumed by BokehJS.\n",
    "This works in ipython notebook, creating static files and interacting with dynamic data sources.\n",
    "\n",
    "Bokeh includes pre-built schemas in bokeh.charts, a low-level composition interface (similar to matplotlib),\n",
    "a server for large and/or dynamic datasources and widgets for providing client-side realtime interaction.\n",
    "\n",
    "The non-JS framework also has prototypes in other languages (Scala, Julia...maybe R).\n",
    "\n",
    "**Note:** There are examples notebooks in bokeh/examples/plotting/notebooks. Start an ipython notebook server there to get more examples.\n",
    "\n",
    "[Gallery](http://bokeh.pydata.org/docs/gallery.html) --\n",
    "[tutorial](http://bokeh.pydata.org/tutorial/index.html) -- \n",
    "[Documentation](http://bokeh.pydata.org/docs/user_guide.html) --\n",
    "[Repo](https://github.com/bokeh/bokeh)\n"
   ]
  },
  {
   "cell_type": "code",
   "execution_count": null,
   "metadata": {
    "collapsed": false
   },
   "outputs": [],
   "source": [
    "import pandas as pd\n",
    "import numpy as np"
   ]
  },
  {
   "cell_type": "markdown",
   "metadata": {},
   "source": [
    "## Output\n",
    "\n",
    "Bokeh can output to html, a notebook, or just fragments for embedding in a web application. \n",
    "\n",
    "To start playing, we'll use the notebook. Later we will see the other types of output."
   ]
  },
  {
   "cell_type": "code",
   "execution_count": null,
   "metadata": {
    "collapsed": false
   },
   "outputs": [],
   "source": [
    "from bokeh.plotting import output_notebook  \n",
    "output_notebook() # Tell Bokeh to output in an ipython notebook (other options later)"
   ]
  },
  {
   "cell_type": "markdown",
   "metadata": {},
   "source": [
    "<hr/>\n",
    "\n",
    "## Plotting.py\n",
    "\n",
    "This is a mid-level interface, used by the charting library (and other parts of bokeh).   It can also be used directly.\n",
    "The basic idea: there is an active plot, and you are modifying it.\n"
   ]
  },
  {
   "cell_type": "code",
   "execution_count": null,
   "metadata": {
    "collapsed": false
   },
   "outputs": [],
   "source": [
    "import numpy as np\n",
    "from bokeh.plotting import *\n",
    "N = 102\n",
    "lin_arr = np.linspace(0, 4*np.pi, N)\n",
    "sin_arr = np.sin(lin_arr)\n",
    "cos_arr = np.cos(lin_arr)"
   ]
  },
  {
   "cell_type": "markdown",
   "metadata": {},
   "source": [
    "<hr />\n",
    "\n",
    "## Scatter Plots\n",
    "\n",
    "To begin with let's make a scatter plot."
   ]
  },
  {
   "cell_type": "code",
   "execution_count": null,
   "metadata": {
    "collapsed": false
   },
   "outputs": [],
   "source": [
    "\n",
    "p1 = figure()\n",
    "p1.scatter(lin_arr, sin_arr, color=\"#FF00FF\")\n",
    "p1.scatter(lin_arr, cos_arr, color=\"green\")\n",
    "show(p1)"
   ]
  },
  {
   "cell_type": "markdown",
   "metadata": {},
   "source": [
    "<hr />\n",
    "\n",
    "## Exercise\n",
    "\n",
    "Play with plotting arrays, try editting\n",
    "- color,\n",
    "- markers,\n",
    "- alpha (value between 0-1), and \n",
    "- size (int of pixels)"
   ]
  },
  {
   "cell_type": "code",
   "execution_count": null,
   "metadata": {
    "collapsed": false
   },
   "outputs": [],
   "source": [
    "p2 = figure()\n",
    "p2.scatter(x=lin_arr, y=sin_arr, color=\"red\")\n",
    "show(p2)"
   ]
  },
  {
   "cell_type": "code",
   "execution_count": null,
   "metadata": {
    "collapsed": false
   },
   "outputs": [],
   "source": [
    "p3 = figure()\n",
    "p3.scatter(x=lin_arr, y=cos_arr , marker=\"square\", color=\"green\")\n",
    "show(p3)"
   ]
  },
  {
   "cell_type": "markdown",
   "metadata": {},
   "source": [
    "### Other plotting things...\n",
    "There are lots of [glyph types](http://bokeh.pydata.org/docs/reference/plotting.html) and lots of [properties](http://bokeh.pydata.org/docs/user_guide/objects.html#userguide-objects-line-properties)...here is just a sample"
   ]
  },
  {
   "cell_type": "markdown",
   "metadata": {},
   "source": [
    "<hr />\n",
    "## Everything is vectorized\n",
    "\n",
    "While we have only been passing vectors for locations, we can do so for almost any parameter.\n",
    "\n",
    "Let's use the `cos_arr` to size the circles"
   ]
  },
  {
   "cell_type": "code",
   "execution_count": null,
   "metadata": {
    "collapsed": false
   },
   "outputs": [],
   "source": [
    "p4 = figure()\n",
    "p4.scatter(x=lin_arr, y=sin_arr, size=cos_arr**2*10)\n",
    "show(p4)"
   ]
  },
  {
   "cell_type": "markdown",
   "metadata": {},
   "source": [
    "<hr/>\n",
    "\n",
    "Let's play with colors now. Brewer is a popular set of palletes. Here we pick one and then build a vector of colors for the plot."
   ]
  },
  {
   "cell_type": "code",
   "execution_count": null,
   "metadata": {
    "collapsed": false
   },
   "outputs": [],
   "source": [
    "from bokeh.palettes import brewer\n",
    "print \"Brewer Palettes:\", brewer.keys()\n",
    "print \"Brewer Grey Palettes:\", brewer[\"Greys\"].keys()\n",
    "palette = brewer[\"Greys\"][9] + list(reversed(brewer[\"Greys\"][9]))\n",
    "colors = palette * (len(lin_arr) / len(palette)) + palette[0:len(lin_arr) % len(palette)]"
   ]
  },
  {
   "cell_type": "code",
   "execution_count": null,
   "metadata": {
    "collapsed": false
   },
   "outputs": [],
   "source": [
    "p5 = figure()\n",
    "p5.scatter(x=lin_arr, y=sin_arr, size=cos_arr**2*10 + 5, fill_color=colors)\n",
    "show(p5)"
   ]
  },
  {
   "cell_type": "markdown",
   "metadata": {},
   "source": [
    "<hr/>\n",
    "\n",
    "## Tools\n",
    "\n",
    "If you notice the bar at the top of the you see several places to interact with the plot.\n",
    "\n",
    "These are tools and there a many different tools built into the Bokeh.\n",
    "\n",
    "Let's take a look at HoverTools, but first we use Bokeh's data source which watches changes."
   ]
  },
  {
   "cell_type": "code",
   "execution_count": null,
   "metadata": {
    "collapsed": false
   },
   "outputs": [],
   "source": [
    "source = ColumnDataSource(\n",
    "    data=dict(\n",
    "        x=lin_arr,\n",
    "        y=sin_arr,\n",
    "        size=cos_arr**2*10 + 5,\n",
    "        colors=colors\n",
    "    )\n",
    ")"
   ]
  },
  {
   "cell_type": "code",
   "execution_count": null,
   "metadata": {
    "collapsed": false
   },
   "outputs": [],
   "source": [
    "from bokeh.models import HoverTool\n",
    "from collections import OrderedDict\n",
    "\n",
    "TOOLS=\"crosshair,pan,wheel_zoom,box_zoom,reset,hover,previewsave\"\n",
    "p6 = figure(title=\"Hoverful Scatter\", tools=TOOLS)\n",
    "p6.circle(x=\"x\", y=\"y\", size=\"size\", source=source,\n",
    "    fill_color=\"colors\", fill_alpha=0.6, line_color=None)\n",
    "\n",
    "hover = p6.select(dict(type=HoverTool))\n",
    "hover.tooltips = OrderedDict([\n",
    "    (\"index\", \"$index\"),\n",
    "    (\"(x,y)\", \"(@x, @y)\"),\n",
    "    (\"size\", \"@size\"),\n",
    "    (\"fill color\", \"$color[hex, swatch]:fill_color\"),\n",
    "])\n",
    "show(p6)"
   ]
  },
  {
   "cell_type": "markdown",
   "metadata": {},
   "source": [
    "<hr />\n",
    "\n",
    "## Linking two plots\n",
    "\n",
    "One of the best aspects of Bokeh is linking plots. We can link the brushing. This will allow you to select and pan with the plots both reacting to each other."
   ]
  },
  {
   "cell_type": "code",
   "execution_count": null,
   "metadata": {
    "collapsed": false
   },
   "outputs": [],
   "source": [
    "\n",
    "N = 300\n",
    "x = np.linspace(0, 4*np.pi, N)\n",
    "y1 = np.sin(x)\n",
    "y2 = np.cos(x)\n",
    "\n",
    "source = ColumnDataSource()\n",
    "source.add(data=x, name='x')\n",
    "source.add(data=y1, name='y1')\n",
    "source.add(data=y2, name='y2')\n",
    "\n",
    "TOOLS = \"pan,wheel_zoom,box_zoom,reset,save,box_select,lasso_select\"\n",
    "\n",
    "s1 = figure(tools=TOOLS, plot_width=350, plot_height=350)\n",
    "s1.scatter('x', 'y1', source=source)\n",
    "\n",
    "# Linked brushing in Bokeh is expressed by sharing data sources between\n",
    "# renderers. Note below that s2.scatter is called with the `source`\n",
    "# keyword argument, and supplied with the same data source from s1.scatter\n",
    "s2 = figure(tools=TOOLS, plot_width=350, plot_height=350, x_range=s1.x_range)\n",
    "s2.scatter('x', 'y2', source=source, )\n",
    "\n",
    "p = gridplot([[s1,s2]])\n",
    "show(p)"
   ]
  },
  {
   "cell_type": "markdown",
   "metadata": {},
   "source": [
    "<hr />\n",
    "\n",
    "## Basic interactivity\n",
    "\n",
    "Bokeh lets you use a Python update function to update your plots.\n",
    "\n",
    "In IPython notebook we can use the interactive widgets provided by the notebook. One can also use Flask or Bokeh-server to embed in outside the notebook."
   ]
  },
  {
   "cell_type": "code",
   "execution_count": null,
   "metadata": {
    "collapsed": false
   },
   "outputs": [],
   "source": [
    "x = np.linspace(0, 2*np.pi, 2000)\n",
    "y = np.sin(x)\n",
    "\n",
    "source = ColumnDataSource(data=dict(x=x, y=y))\n",
    "\n",
    "p = figure(title=\"simple line example\", plot_height=300, plot_width=600)\n",
    "p.line(x, y, color=\"#2222aa\", line_width=3, source=source, name=\"foo\")"
   ]
  },
  {
   "cell_type": "code",
   "execution_count": null,
   "metadata": {
    "collapsed": false
   },
   "outputs": [],
   "source": [
    "from IPython.html.widgets import interact\n",
    "@interact(f=[\"sin\", \"cos\", \"tan\"], w=(0,100), A=(1,10), phi=(0, 10, 0.1))\n",
    "def update(f, w=1, A=1, phi=0):\n",
    "    if   f == \"sin\": func = np.sin\n",
    "    elif f == \"cos\": func = np.cos\n",
    "    elif f == \"tan\": func = np.tan\n",
    "    source.data['y'] = A * func(w * x + phi)\n",
    "    source.push_notebook()\n"
   ]
  },
  {
   "cell_type": "code",
   "execution_count": null,
   "metadata": {
    "collapsed": false
   },
   "outputs": [],
   "source": [
    "show(p)"
   ]
  },
  {
   "cell_type": "markdown",
   "metadata": {},
   "source": [
    "<hr/>\n",
    "\n",
    "## [bokeh.charts](http://bokeh.pydata.org/docs/user_guide/charts.html)\n",
    "Common Schemas for common tasks (and parameters).\n",
    "\n",
    "Expects data to be formatted as either an OrderedDict or a pandas dataframe.\n",
    "\n",
    "Supported Schemas: Bar, Boxplot, Categorical Heatmap, Histogram, Scatter, Timeseries"
   ]
  },
  {
   "cell_type": "code",
   "execution_count": null,
   "metadata": {
    "collapsed": false
   },
   "outputs": [],
   "source": [
    "from collections import OrderedDict\n",
    "from bokeh.charts import Histogram\n",
    "\n",
    "mu, sigma = 0, 0.5\n",
    "normal_dist = OrderedDict(normal=np.random.normal(mu, sigma, size=1000))\n",
    "hist = Histogram(normal_dist, bins=50,\n",
    "                 title=\"kwargs, dict_input\", \n",
    "                 ylabel=\"frequency\", \n",
    "                 legend=\"top_left\",\n",
    "                 width=400, \n",
    "                 height=350, \n",
    "                 notebook=True)\n",
    "hist.show()"
   ]
  },
  {
   "cell_type": "markdown",
   "metadata": {},
   "source": [
    "<hr />\n",
    "\n",
    "# Baseball App Example\n",
    "\n",
    "In this example we use Blaze and Bokeh to explore the Lahman Baseball Statistics database.\n",
    "\n"
   ]
  },
  {
   "cell_type": "code",
   "execution_count": null,
   "metadata": {
    "collapsed": false
   },
   "outputs": [],
   "source": [
    "import blaze as bz\n",
    "import pandas as pd\n",
    "import numpy as np\n",
    "from odo import odo\n",
    "from bokeh.plotting import *\n",
    "output_notebook()"
   ]
  },
  {
   "cell_type": "code",
   "execution_count": null,
   "metadata": {
    "collapsed": false
   },
   "outputs": [],
   "source": [
    "db = bz.Data('sqlite:///lahman2013.sqlite')\n",
    "db.dshape"
   ]
  },
  {
   "cell_type": "code",
   "execution_count": null,
   "metadata": {
    "collapsed": false
   },
   "outputs": [],
   "source": [
    "list(db.Salaries.teamID.distinct())"
   ]
  },
  {
   "cell_type": "code",
   "execution_count": null,
   "metadata": {
    "collapsed": false
   },
   "outputs": [],
   "source": [
    "r = bz.compute(db.Salaries[\"teamID\"].distinct())\n",
    "odo(r, pd.DataFrame)"
   ]
  },
  {
   "cell_type": "code",
   "execution_count": null,
   "metadata": {
    "collapsed": false
   },
   "outputs": [],
   "source": [
    "result = bz.by(db.Salaries.teamID, avg=db.Salaries.salary.mean(), \n",
    "                                   max=db.Salaries.salary.max(), \n",
    "                                   ratio=db.Salaries.salary.max() / db.Salaries.salary.min()\n",
    "                ).sort('ratio', ascending=False)\n",
    "df = odo(result, pd.DataFrame)"
   ]
  },
  {
   "cell_type": "code",
   "execution_count": null,
   "metadata": {
    "collapsed": false
   },
   "outputs": [],
   "source": [
    "df.head()"
   ]
  },
  {
   "cell_type": "code",
   "execution_count": null,
   "metadata": {
    "collapsed": false
   },
   "outputs": [],
   "source": [
    "df = df.sort('avg')\n",
    "source = ColumnDataSource(df)\n",
    "p = figure(x_range=list(df[\"teamID\"]))\n",
    "p.scatter(x=\"teamID\", y=\"avg\", source=source)\n",
    "show(p)"
   ]
  },
  {
   "cell_type": "markdown",
   "metadata": {},
   "source": [
    "Hmm, can't read the y axis very well..."
   ]
  },
  {
   "cell_type": "code",
   "execution_count": null,
   "metadata": {
    "collapsed": false
   },
   "outputs": [],
   "source": [
    "df = df.sort('avg')\n",
    "source = ColumnDataSource(df)\n",
    "p = figure(x_range=list(df[\"teamID\"]))\n",
    "p.scatter(x=\"teamID\", y=\"avg\", source=source)\n",
    "p.xaxis.major_label_orientation = np.pi/3\n",
    "\n",
    "show(p)"
   ]
  },
  {
   "cell_type": "markdown",
   "metadata": {},
   "source": [
    "Let's view a max versus ratio"
   ]
  },
  {
   "cell_type": "code",
   "execution_count": null,
   "metadata": {
    "collapsed": false
   },
   "outputs": [],
   "source": [
    "TOOLS = \"pan,wheel_zoom,box_zoom,reset,save,lasso_select\"\n",
    "\n",
    "df = df.sort('avg')\n",
    "source = ColumnDataSource(df)\n",
    "s1 = figure(title=\"Pay Avg\",x_range=source.data[\"teamID\"], tools=TOOLS, width=500)\n",
    "s1.scatter(x=\"teamID\", y=\"avg\", source=source)\n",
    "s1.xaxis.major_label_orientation = np.pi/3\n",
    "\n",
    "s2 = figure(title=\"Pay Ratio\", x_range=s1.x_range, tools=TOOLS, width=500)\n",
    "s2.scatter(x=\"teamID\", y=\"ratio\", source=source)\n",
    "s2.xaxis.major_label_orientation = np.pi/3\n",
    "\n",
    "p = gridplot([[s1, s2]])\n",
    "show(p)"
   ]
  },
  {
   "cell_type": "markdown",
   "metadata": {},
   "source": [
    "<hr/>\n",
    "\n",
    "Now let's join on the AllStars table to see how max salaries and all star count correlate."
   ]
  },
  {
   "cell_type": "code",
   "execution_count": null,
   "metadata": {
    "collapsed": false
   },
   "outputs": [],
   "source": [
    "result = bz.by(db.AllstarFull.teamID, all_stars=db.AllstarFull.playerID.count()\n",
    "                ).sort('all_stars', ascending=False)\n",
    "r = bz.Data(odo(result, pd.DataFrame))\n",
    "m = odo(r, pd.DataFrame)[\"all_stars\"].max()\n",
    "print \"max number of all stars from a single team:\", m\n",
    "\n",
    "print \"normalized list of all_stars:\\n\", bz.compute((r.all_stars / m).head())\n",
    "\n",
    "# Now let's use this as the size of the circles in the scatter plot\n",
    "df1 = odo(r, pd.DataFrame)\n",
    "df1['all_stars'] /= (df1['all_stars'].max() / 10)\n",
    "df1['all_stars'] += 10"
   ]
  },
  {
   "cell_type": "markdown",
   "metadata": {},
   "source": [
    "<hr/>\n",
    "\n",
    "Now lets join the data to all_star sizes"
   ]
  },
  {
   "cell_type": "code",
   "execution_count": null,
   "metadata": {
    "collapsed": false
   },
   "outputs": [],
   "source": [
    "r = bz.join(bz.Data(df1), bz.Data(df), 'teamID')\n",
    "r.head()"
   ]
  },
  {
   "cell_type": "code",
   "execution_count": null,
   "metadata": {
    "collapsed": false
   },
   "outputs": [],
   "source": [
    "df_j = odo(r, pd.DataFrame)\n",
    "df_j = df_j.sort(\"max\")\n",
    "print df_j.head()\n",
    "source = odo(df_j, ColumnDataSource)\n",
    "p = figure(x_range=list(df_j[\"teamID\"]))\n",
    "p.scatter(x=\"teamID\", y=\"max\", size=\"all_stars\", source=source, fill_alpha=0.5, )\n",
    "p.xaxis.major_label_orientation = np.pi/3\n",
    "\n",
    "show(p)"
   ]
  },
  {
   "cell_type": "markdown",
   "metadata": {},
   "source": [
    "<hr/>\n",
    "\n",
    "Now let's make this an interactive plot!"
   ]
  },
  {
   "cell_type": "code",
   "execution_count": null,
   "metadata": {
    "collapsed": false
   },
   "outputs": [],
   "source": [
    "def compute_df(year=2012):\n",
    "    result = db.Salaries[ db.Salaries.yearID==year ]\n",
    "    result = bz.Data(odo(result, pd.DataFrame))\n",
    "    result = bz.by(result.teamID, max=result.salary.max()).sort('max', ascending=False)\n",
    "    df = odo(result, pd.DataFrame)\n",
    "    asf_year = db.AllstarFull[ db.AllstarFull.yearID==year]\n",
    "    result = bz.by(asf_year.teamID, all_stars=db.AllstarFull.playerID.count()\n",
    "                    ).sort('all_stars', ascending=False)\n",
    "    r = bz.Data(odo(result, pd.DataFrame))\n",
    "    df1 = odo(r, pd.DataFrame)\n",
    "    df1['all_stars'] /= (df1['all_stars'].max() / 10)\n",
    "    df1['all_stars'] += 10\n",
    "    r = bz.join(bz.Data(df1), bz.Data(df), 'teamID')\n",
    "    df_j = odo(r, pd.DataFrame)\n",
    "    df_j = df_j.sort(\"max\")\n",
    "    return df_j\n",
    "\n",
    "source = odo(compute_df(), ColumnDataSource)\n",
    "\n",
    "p = figure(x_range=list(source.data[\"teamID\"]))\n",
    "p.scatter(x=\"teamID\", y=\"max\", size=\"all_stars\", source=source, fill_alpha=0.5, )\n",
    "p.xaxis.major_label_orientation = np.pi/3"
   ]
  },
  {
   "cell_type": "code",
   "execution_count": null,
   "metadata": {
    "collapsed": false
   },
   "outputs": [],
   "source": [
    "from IPython.html.widgets import interact, IntSliderWidget\n",
    "\n",
    "def update(year):\n",
    "    df = compute_df(year)\n",
    "    source.data['all_stars'] = df['all_stars']\n",
    "    source.data['max'] = df['max']\n",
    "    source.push_notebook()\n",
    "#interact(update, year=(1980, 2013))\n",
    "interact(update, year=IntSliderWidget(min=1985, max=2013, value=2013))"
   ]
  },
  {
   "cell_type": "code",
   "execution_count": null,
   "metadata": {
    "collapsed": false
   },
   "outputs": [],
   "source": [
    "show(p)"
   ]
  },
  {
   "cell_type": "code",
   "execution_count": null,
   "metadata": {
    "collapsed": false
   },
   "outputs": [],
   "source": []
  }
 ],
 "metadata": {
  "kernelspec": {
   "display_name": "Python 2",
   "language": "python",
   "name": "python2"
  },
  "language_info": {
   "codemirror_mode": {
    "name": "ipython",
    "version": 2
   },
   "file_extension": ".py",
   "mimetype": "text/x-python",
   "name": "python",
   "nbconvert_exporter": "python",
   "pygments_lexer": "ipython2",
   "version": "2.7.9"
  }
 },
 "nbformat": 4,
 "nbformat_minor": 0
}
